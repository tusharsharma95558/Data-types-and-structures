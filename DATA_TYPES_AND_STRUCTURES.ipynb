{
  "nbformat": 4,
  "nbformat_minor": 0,
  "metadata": {
    "colab": {
      "provenance": []
    },
    "kernelspec": {
      "name": "python3",
      "display_name": "Python 3"
    },
    "language_info": {
      "name": "python"
    }
  },
  "cells": [
    {
      "cell_type": "markdown",
      "source": [
        "# DATA TYPES AND STRUCTURES"
      ],
      "metadata": {
        "id": "4L6_R_4zFZn5"
      }
    },
    {
      "cell_type": "markdown",
      "source": [
        "# What are data structures, and why are they important?\n",
        "- Data structures are ways of organizing and storing data in a computer so that it can be accessed and modified efficiently. They define the layout of data in memory and provide operations that can be performed on that data, such as searching, sorting, inserting, and deleting.\n",
        "- Data Structures are important becasue:\n",
        "    - Efficiency: They optimize the use of resources like memory and processing\n",
        "      time\n",
        "    - Scalability: Help Software handle large amounts of data efficiently.\n",
        "    - Resuablility: common structures can be reused across applicaitons.\n",
        "    - Abstraction: Provide a logical view of data separate from its\n",
        "      implementation.\n",
        "    - Algorithm Support – Many algorithms are designed to work with specific\n",
        "     data structures.\n"
      ],
      "metadata": {
        "id": "zfhezvvPFZMN"
      }
    },
    {
      "cell_type": "markdown",
      "source": [
        "# Explain the difference between mutable and immutable data types with examples.\n",
        "- Mutable and immutable are terms that describe whether or not a data object can be changed after it is created.\n",
        "\n",
        "- Mutable data types: These can be changed or modified after they are created. You can change their content without changing their identity (i.e., they still occupy the same memory location).\n",
        "Examples: List, Dictionary, Set, bytearray\n",
        "\n",
        "- Immutable data types: These cannot be changed once they are created. Any change creates a new object in memory.\n",
        "Examples:\n",
        "int, float, str, tuple, frozenset, bytes"
      ],
      "metadata": {
        "id": "QJd3fJcFHyGI"
      }
    },
    {
      "cell_type": "markdown",
      "source": [
        "# What are the main differences between lists and tuples in python?\n",
        "- Lists:\n",
        "    - Mutable: can be changed\n",
        "    - Performance: Slower (more overhead)\n",
        "    - use case: For collections that change often\n",
        "\n",
        "- Tuples:\n",
        "    - Immutable: cannot be changed\n",
        "    - Perfomace: Faster (less overhead)\n",
        "    - use case: For fixed, constant data"
      ],
      "metadata": {
        "id": "FQ-3bS7qJXCI"
      }
    },
    {
      "cell_type": "markdown",
      "source": [
        "# Describe how dictionaries store data.\n",
        "- Dictionaries in Python store data as key-value pairs using a data structure called a hash table.\n",
        "- Fast access to values by key.\n",
        "- Ideal for representing structured data.\n",
        "- Built-in menthods make it easy to manipulate and query the data."
      ],
      "metadata": {
        "id": "l8cLvs5sJZC-"
      }
    },
    {
      "cell_type": "markdown",
      "source": [
        "# Why might you use a set instead of a list in python?\n",
        "\n",
        "- A set is use instead of a list in python when:\n",
        "    - You need to store unique items: sets automatically remove duplicates, while lists allow them.\n",
        "    - You want fast membership tests: sets are optimized for checking if an item exists\n",
        "    - You need set operations: Sets support powerful operations like- union(), intersection(), difference(), issubset(), etc."
      ],
      "metadata": {
        "id": "U_9xIN81JY_w"
      }
    },
    {
      "cell_type": "markdown",
      "source": [
        "# What is a string in Python, and how is it different from a list?\n",
        "\n",
        "- String\n",
        "    - Immutable\n",
        "    - Elements: Always characters (eg.- 'a','1')\n",
        "    - syntax: 'hello' or \"hello\"\n",
        "    - Rich set of string methods (.upper(), .split())\n",
        "\n",
        "- List\n",
        "    - Mutable\n",
        "    - Elements: can be numbers, strings, objects, etc.\n",
        "    - Syntax: [1, 2, 3]\n",
        "    - List methods like .append(), .sort()\n",
        "    "
      ],
      "metadata": {
        "id": "hftWuz8PJY88"
      }
    },
    {
      "cell_type": "markdown",
      "source": [
        "# How do tuples ensure data integrity in Python?\n",
        "- Tuples ensure data integrity in Python primarily through their immutability.\n",
        "\n",
        "- Tuples help ensure data integrity by being immutable, hashable, and intended for\n",
        "fixed collections of data that should not be changed once created.\n"
      ],
      "metadata": {
        "id": "20cZxSUfJY6G"
      }
    },
    {
      "cell_type": "markdown",
      "source": [
        "# What is a hash table, and how does it relate to dictionaries in Python?\n",
        "\n",
        "- A hash table is a data structure that stores key-value pairs and allows for fast data retrieval based on keys. It works by using a hash function to convert a key into an index in an underlying array where the value is stored.\n",
        "\n",
        "- Dictionaries in Python are implemented using hash tables.\n",
        "\n",
        "- This is why operations like dict[key] (lookup, insert, delete) are on average O(1) time— very fast."
      ],
      "metadata": {
        "id": "zARaEEu2JY2o"
      }
    },
    {
      "cell_type": "markdown",
      "source": [
        "# Can lists contain different data types in Python?\n",
        "\n",
        "- Yes, lists can contain different data types in Python. Python lists are heterogeneous, meaning they can store elements of different types—including\n",
        "numbers, strings, other lists, objects, or even functions."
      ],
      "metadata": {
        "id": "ON_STnskZ_nH"
      }
    },
    {
      "cell_type": "markdown",
      "source": [
        "# Explain why strings are immutable in Python?\n",
        "\n",
        "- Strings are immutable in Python for several important reasons related to performance security, and design simplicity:\n",
        "\n",
        "- Memory Efficiency: Python optimizes memory by reusing immutable strings.\n",
        "\n",
        "- Hashability: Immutable objects can be hashed, meaning they can be used as keys in dictionaries or elements in sets.\n",
        "\n",
        "- Thread Safety: Since strings cannot change, they are inherently thread-safe. Multiple threads can safely read the same string without synchronization issues.\n",
        "\n",
        "- Predictability and simplicity: Immutable strings prevent accidental changes, making code easier to understand and debug.\n",
        "\n",
        "- Design consistency: other immutable tupes like tuples and integers follow the same principle."
      ],
      "metadata": {
        "id": "5QMnl2NEaPxY"
      }
    },
    {
      "cell_type": "markdown",
      "source": [
        "# What advantages do dictionaries offer over lists for certain tasks?\n",
        "\n",
        "- Dictionaries offer several advantages over lists for certain tasks, especially when you need efficient lookups, unique key-value mappings, or fast access to data based on a specific key.\n",
        "\n",
        "- key advantages are:\n",
        "    - Fast lookups by key\n",
        "    - Storing data with key-value pairs\n",
        "    - No duplicate keys in dictionaries\n",
        "    - Flexibility in key types\n",
        "    - Easier to modify specific items\n",
        "    - Useful for data grouping or mapping\n"
      ],
      "metadata": {
        "id": "JeWtQthjb2RK"
      }
    },
    {
      "cell_type": "markdown",
      "source": [
        "# Describe a scenario where using a tuple would be preferable over a list.\n",
        "\n",
        "- A tuple would be preferable over a list in a scenario where immutability and data integrity are important.\n",
        "\n",
        "    - Scenario: Returning multiple values from a function.\n",
        "\n",
        "Suppose you have a function that calculates the quotient and remainder of a division operation:\n",
        "\n",
        "\n",
        "    def divide(x, y):\n",
        "    quotient = x // y\n",
        "    remainder = x % y\n",
        "    return (quotient, remainder)\n",
        "\n",
        "\n",
        "\n",
        "- Use of tuple here:\n",
        "    - Fixed Size and Structure: The function always returns exactly two values in a known structure.\n",
        "\n",
        "    - Immutability: The result is not meant to be modified; it's just to be used or unpacked.\n",
        "\n",
        "    - Semantic Clarity: A tuple communicates that the grouped values are logically related and fixed."
      ],
      "metadata": {
        "id": "RlXjx8Rpcsqu"
      }
    },
    {
      "cell_type": "markdown",
      "source": [
        "# How does sets handle duplicate values in python?\n",
        "\n",
        "- In Python, sets automatically eliminate duplicate values.\n",
        "\n",
        "  - Python sets are implemented using hash tables, which means:\n",
        "\n",
        "    - When you add an element, Python checks the hash of the item.\n",
        "    - If another item with the same hash already exists in the set (and is equal), it won’t be added again.\n",
        "- Sets automatically discard duplicates, making them ideal for storing collections of unique items or filtering out repeated entries."
      ],
      "metadata": {
        "id": "N559T9VJiJW4"
      }
    },
    {
      "cell_type": "markdown",
      "source": [
        "# How does the \"in\" keyword work differently for lists and dictionaries?\n",
        "\n",
        "- The \"in\" keyword is used in both lists and dictionaries in Python, but it behaves differently based on the data structure:\n",
        "\n",
        "  - For Lists:\n",
        "    - The \"in\" keyword checks if a value exists as an element in the list.\n",
        "  - For Dictionaries:\n",
        "    - The \"in\" keyword checks if a value exists as a key, not as a value."
      ],
      "metadata": {
        "id": "1reL5Xm3jW8B"
      }
    },
    {
      "cell_type": "markdown",
      "source": [
        "# Can you modify the lements of a tuple? Explain why or why not.\n",
        "\n",
        "- No, the elements of a tuple in Python cannot be modified. Tuples are immutable, which means that once a tuple is created, its contents cannot be changed — you can't add, remove, or alter its elements.\n",
        "\n",
        "- tuples are immutable because:\n",
        "    - Design choice: Tuples are intended to represent fixed collections of items — such as coordinates, dates, or configuration settings — where changes are not expected.\n",
        "\n",
        "    - Hashability: Because of their immutability, tuples can be used as keys in dictionaries and stored in sets, unlike lists.\n",
        "\n",
        "    - Safety: Immutability makes tuples safer to use when data integrity is critical.\n",
        "\n",
        "- Mutable elements inside a tuple (e.g. lists) can be changed"
      ],
      "metadata": {
        "id": "uw8ZO2ZKn-NL"
      }
    },
    {
      "cell_type": "markdown",
      "source": [
        "# What is a nested dictionary, and give an example of its use case?\n",
        "\n",
        "- A nested dictionary in Python is a dictionary where one or more values are themselves dictionaries. It allows you to model complex hierarchical data structures.\n",
        "\n",
        "- Use Case Example: Storing Student Records\n",
        "\n",
        "\n",
        "suppose you're building a school management system and need to track multiple students and their details:\n",
        "\n",
        "students = {\n",
        "    'student_101': {\n",
        "        'name': 'Emma',\n",
        "        'grades': {'math': 88, 'science': 92},\n",
        "        'age': 14\n",
        "    },\n",
        "    'student_102': {\n",
        "        'name': 'Liam',\n",
        "        'grades': {'math': 75, 'science': 85},\n",
        "        'age': 15\n",
        "    }\n",
        "}\n",
        "\n",
        "\n",
        "print(students['student_101']['grades']['math'])  # Output: 88\n",
        "\n"
      ],
      "metadata": {
        "id": "wUO5qheKpAoe"
      }
    },
    {
      "cell_type": "markdown",
      "source": [
        "# Describe the time complexity of accessing element in a dictionary.\n",
        "\n",
        "- The time complexity of accessing elements in a Python dictionary is O(1) on average, which means it is a constant time operation. This efficiency is achieved because dictionaries in Python are implemented using a hash table.\n",
        "\n",
        "\n",
        "- How it Works:\n",
        "    - When you access a value using a key in a dictionary (e.g., my_dict[key]), Python computes the hash of the key and uses it to quickly locate the value in an underlying array.\n",
        "    - This hashing mechanism allows for fast lookups, insertions, and deletions because Python can directly access the memory location of the value based on the computed hash code."
      ],
      "metadata": {
        "id": "I7zMTKBf0f8e"
      }
    },
    {
      "cell_type": "markdown",
      "source": [
        "# In what situations are lists preferred over dictionaries?\n",
        "\n",
        "- Lists are preferred over dictionaries in the following situations:\n",
        "\n",
        "    - When the order of elements matters.\n",
        "    - When accessing elements by index is required.\n",
        "    - When the data is homogeneous.\n",
        "    - When you need to perform operations on the whole collection.\n",
        "    - When you need a dynamic, resizable collection.\n",
        "    - When you don't need key-value association.\n",
        "\n",
        "- Dictionaries are more suitable when you need fast lookups by key, and you are working with key-value pairs or when the elements should be uniquiely identified by keys.\n"
      ],
      "metadata": {
        "id": "PaTuFZZi1pk7"
      }
    },
    {
      "cell_type": "markdown",
      "source": [
        "# Why are dictionaries considered unordered, and how does that affect data retrieval?\n",
        "\n",
        "- Dictionaries were historically considered unordered because, in Python versions before 3.7, the order of key-value pairs was not guaranteed. This was due to how dictionaries were implemented\n",
        "using a hash table.\n",
        "\n",
        "-  dictionaries preserve the insertion order of items. This means that when\n",
        "you iterate over a dictionary, the order of key-value pairs will be the same as when they\n",
        "were added, making dictionaries ordered.\n",
        "\n",
        "\n",
        "- Data retrieval by key is still fast (O(1) average time complexity), and now the insertion order is preserved."
      ],
      "metadata": {
        "id": "3OvscvxV3mZ6"
      }
    },
    {
      "cell_type": "markdown",
      "source": [
        "# Explain the difference between a list and a dictionary in terms of data retrieval.\n",
        "\n",
        "- The difference between a list and a dictionary in terms of data retrieval lies primarily in how\n",
        "data is accessed and the structure used for storage.\n",
        "\n",
        "- Data Retrieval in a list:\n",
        "    - Indexed by Position (Index): A list is an ordered collection where data is accessed by its index, which is a zero-based integer.\n",
        "    - Order is Important: Since lists are ordered, elements can be retrieved using their position in the list.\n",
        "    - Time Complexity: Accessing an element by index in a list is O(1) (constant time), which means it’s fast when accessing elements directly by index.\n",
        "\n",
        "\n",
        "- Data Retrieval in a dictionary:\n",
        "    - Indexed by Key: A dictionary is an unordered collection of key-value pairs, where data is retrieved by key rather than an index\n",
        "    - Fast Lookup: Internally, dictionaries use a hash table to store data, allowing for very fast lookups when using a key.\n",
        "    - Time Complexity: Accessing a value in a dictionary by key is O(1) on average (constant time), making it very efficient. However, there is no concept of accessing values by an integer index like in a list."
      ],
      "metadata": {
        "id": "Ne7xY19U4wF5"
      }
    },
    {
      "cell_type": "markdown",
      "source": [
        "# PRACTICAL QUESTIONS"
      ],
      "metadata": {
        "id": "OQOiF7aqJYzR"
      }
    },
    {
      "cell_type": "markdown",
      "source": [
        "# Write a code to create a string with your name and print it.\n"
      ],
      "metadata": {
        "id": "UpQiHdMKJYLX"
      }
    },
    {
      "cell_type": "code",
      "source": [
        "my_name = \"Tushar Sharma\"\n",
        "\n",
        "print(\"My name is\", my_name)"
      ],
      "metadata": {
        "colab": {
          "base_uri": "https://localhost:8080/"
        },
        "id": "Acy-1CzKLKT8",
        "outputId": "3a480bde-9797-4727-9a54-aeb6656c45c5"
      },
      "execution_count": null,
      "outputs": [
        {
          "output_type": "stream",
          "name": "stdout",
          "text": [
            "My name is Tushar Sharma\n"
          ]
        }
      ]
    },
    {
      "cell_type": "markdown",
      "source": [
        "# Write a code to find the length of the string \"Hello World\"."
      ],
      "metadata": {
        "id": "wRP69yi_LzEx"
      }
    },
    {
      "cell_type": "code",
      "source": [
        "string = \"Hello World\"\n",
        "length = len(string)\n",
        "print(\"The length of the string is:\", length)"
      ],
      "metadata": {
        "colab": {
          "base_uri": "https://localhost:8080/"
        },
        "id": "FTsogK7NLhrG",
        "outputId": "2f7c311e-a416-47d3-8d86-079df7c1a337"
      },
      "execution_count": null,
      "outputs": [
        {
          "output_type": "stream",
          "name": "stdout",
          "text": [
            "The length of the string is: 11\n"
          ]
        }
      ]
    },
    {
      "cell_type": "markdown",
      "source": [
        "# Write a code to slice the first 3 characters from the string \"python programming\"."
      ],
      "metadata": {
        "id": "3VBcu4oIMHHz"
      }
    },
    {
      "cell_type": "code",
      "source": [
        "string = \"Python Programming\"\n",
        "\n",
        "sliced_string = string[:3]\n",
        "\n",
        "print(\"The first 3 characters are:\", sliced_string)"
      ],
      "metadata": {
        "colab": {
          "base_uri": "https://localhost:8080/"
        },
        "id": "lZlZ7rsFMDAl",
        "outputId": "9842044f-7ea5-443e-cc82-191eb22af50a"
      },
      "execution_count": null,
      "outputs": [
        {
          "output_type": "stream",
          "name": "stdout",
          "text": [
            "The first 3 characters are: Pyt\n"
          ]
        }
      ]
    },
    {
      "cell_type": "markdown",
      "source": [
        "# Write a code to convert thr string \"hello\" to uppercase."
      ],
      "metadata": {
        "id": "OT1MFNrPMpi1"
      }
    },
    {
      "cell_type": "code",
      "source": [
        "string = \"hello\"\n",
        "\n",
        "uppercase_string = string.upper()\n",
        "\n",
        "print(\"The string in uppercase is:\", uppercase_string)\n"
      ],
      "metadata": {
        "colab": {
          "base_uri": "https://localhost:8080/"
        },
        "id": "c5_v7v2kMZ4K",
        "outputId": "fb7ccd75-e01c-4412-8f71-9e99f7391f60"
      },
      "execution_count": null,
      "outputs": [
        {
          "output_type": "stream",
          "name": "stdout",
          "text": [
            "The string in uppercase is: HELLO\n"
          ]
        }
      ]
    },
    {
      "cell_type": "markdown",
      "source": [
        "# Write a code to replace the word \"apple\" with \"orange\" in the string \"I like apple\"."
      ],
      "metadata": {
        "id": "-UzVfC49NE5R"
      }
    },
    {
      "cell_type": "code",
      "source": [
        "string = \"I like apple\"\n",
        "\n",
        "new_string = string.replace(\"apple\", \"orange\")\n",
        "\n",
        "print(\"Updated string:\", new_string)"
      ],
      "metadata": {
        "colab": {
          "base_uri": "https://localhost:8080/"
        },
        "id": "S91lTBSONAgD",
        "outputId": "00fe3b93-2b35-4695-d05b-d961d0a09100"
      },
      "execution_count": null,
      "outputs": [
        {
          "output_type": "stream",
          "name": "stdout",
          "text": [
            "Updated string: I like orange\n"
          ]
        }
      ]
    },
    {
      "cell_type": "markdown",
      "source": [
        "# Write a code to create a list with numbers 1 to 5 and print it."
      ],
      "metadata": {
        "id": "GZIHqsVYNp27"
      }
    },
    {
      "cell_type": "code",
      "source": [
        "numbers = [1, 2, 3, 4, 5]\n",
        "\n",
        "print(\"The list is:\", numbers)\n"
      ],
      "metadata": {
        "colab": {
          "base_uri": "https://localhost:8080/"
        },
        "id": "-6BayhNUNL12",
        "outputId": "8dd28192-7962-445d-a8de-f5c310276693"
      },
      "execution_count": null,
      "outputs": [
        {
          "output_type": "stream",
          "name": "stdout",
          "text": [
            "The list is: [1, 2, 3, 4, 5]\n"
          ]
        }
      ]
    },
    {
      "cell_type": "markdown",
      "source": [
        "# Write a code to append the number 10 to the list [1, 2, 3, 4]."
      ],
      "metadata": {
        "id": "RIxVVWJtOGEB"
      }
    },
    {
      "cell_type": "code",
      "source": [
        "numbers = [1, 2, 3, 4]\n",
        "\n",
        "numbers.append(10)\n",
        "\n",
        "print(\"Updated list:\", numbers)"
      ],
      "metadata": {
        "colab": {
          "base_uri": "https://localhost:8080/"
        },
        "id": "eIyanfRDOArD",
        "outputId": "9ccbeaa3-29b2-4f9e-808c-b39bf16196be"
      },
      "execution_count": null,
      "outputs": [
        {
          "output_type": "stream",
          "name": "stdout",
          "text": [
            "Updated list: [1, 2, 3, 4, 10]\n"
          ]
        }
      ]
    },
    {
      "cell_type": "markdown",
      "source": [
        "# Write a code to remove the number 3 from the list [1, 2, 3, 4, 5]."
      ],
      "metadata": {
        "id": "erLbtMuZOgeV"
      }
    },
    {
      "cell_type": "code",
      "source": [
        "numbers = [1, 2, 3, 4, 5]\n",
        "\n",
        "numbers.remove(3)\n",
        "\n",
        "print(\"Updated list:\", numbers)"
      ],
      "metadata": {
        "colab": {
          "base_uri": "https://localhost:8080/"
        },
        "id": "jx6P8e56ObWH",
        "outputId": "be4b6898-3c3a-4e29-82c0-547f541ff302"
      },
      "execution_count": null,
      "outputs": [
        {
          "output_type": "stream",
          "name": "stdout",
          "text": [
            "Updated list: [1, 2, 4, 5]\n"
          ]
        }
      ]
    },
    {
      "cell_type": "markdown",
      "source": [
        "# Write a code to access the second element in the list ['a','b','c','d']."
      ],
      "metadata": {
        "id": "vW64XzWtOxrC"
      }
    },
    {
      "cell_type": "code",
      "source": [
        "my_list = ['a', 'b', 'c', 'd']\n",
        "\n",
        "second_element = my_list[1]\n",
        "\n",
        "print(\"The second element is:\", second_element)"
      ],
      "metadata": {
        "colab": {
          "base_uri": "https://localhost:8080/"
        },
        "id": "g8pipFVFOwaN",
        "outputId": "67f98dc3-adaa-4734-d225-30e702426842"
      },
      "execution_count": null,
      "outputs": [
        {
          "output_type": "stream",
          "name": "stdout",
          "text": [
            "The second element is: b\n"
          ]
        }
      ]
    },
    {
      "cell_type": "markdown",
      "source": [
        "# Write a code to reverse the list [10, 20, 30, 40, 50]."
      ],
      "metadata": {
        "id": "9ruPMMFQPAsc"
      }
    },
    {
      "cell_type": "code",
      "source": [
        "numbers = [10, 20, 30, 40, 50]\n",
        "\n",
        "reversed_list = numbers[::-1]\n",
        "\n",
        "print(\"Reversed list:\", reversed_list)"
      ],
      "metadata": {
        "colab": {
          "base_uri": "https://localhost:8080/"
        },
        "id": "xadpzXScO_Sn",
        "outputId": "463d6653-ea6d-447e-a761-b069b8a2b5de"
      },
      "execution_count": null,
      "outputs": [
        {
          "output_type": "stream",
          "name": "stdout",
          "text": [
            "Reversed list: [50, 40, 30, 20, 10]\n"
          ]
        }
      ]
    },
    {
      "cell_type": "markdown",
      "source": [
        "# Write a code to create a tuple with the elements 100, 200, 300 and print it."
      ],
      "metadata": {
        "id": "MFDgOE1fPJg-"
      }
    },
    {
      "cell_type": "code",
      "source": [
        "my_tuple = (100, 200, 300)\n",
        "\n",
        "print(\"The tuple is:\", my_tuple)"
      ],
      "metadata": {
        "colab": {
          "base_uri": "https://localhost:8080/"
        },
        "id": "kci83TqkPIRd",
        "outputId": "d1ddc2bd-b2a6-4775-8ab8-18b99a345397"
      },
      "execution_count": null,
      "outputs": [
        {
          "output_type": "stream",
          "name": "stdout",
          "text": [
            "The tuple is: (100, 200, 300)\n"
          ]
        }
      ]
    },
    {
      "cell_type": "markdown",
      "source": [
        "# Write a code to access the second-to-last element of the tuple ('red', 'green', 'blue', 'yellow')."
      ],
      "metadata": {
        "id": "BU9wY8W6PQ1b"
      }
    },
    {
      "cell_type": "code",
      "source": [
        "my_tuple = ('red', 'green', 'blue', 'yellow')\n",
        "\n",
        "second_to_last_element = my_tuple[-2]\n",
        "\n",
        "print(\"The second-to-last element is:\", second_to_last_element)\n"
      ],
      "metadata": {
        "colab": {
          "base_uri": "https://localhost:8080/"
        },
        "id": "2U4aH7u5PPsl",
        "outputId": "b973e536-fa69-47cc-8966-4358ef8c42ff"
      },
      "execution_count": null,
      "outputs": [
        {
          "output_type": "stream",
          "name": "stdout",
          "text": [
            "The second-to-last element is: blue\n"
          ]
        }
      ]
    },
    {
      "cell_type": "markdown",
      "source": [
        "# Write a code to find the minimum number in the tuple (10, 20, 5, 15)."
      ],
      "metadata": {
        "id": "BEL4_frwPaSA"
      }
    },
    {
      "cell_type": "code",
      "source": [
        "my_tuple = (10, 20, 5, 15)\n",
        "\n",
        "min_number = min(my_tuple)\n",
        "\n",
        "print(\"The minimum number is:\", min_number)"
      ],
      "metadata": {
        "colab": {
          "base_uri": "https://localhost:8080/"
        },
        "id": "WPJEl58yPYxY",
        "outputId": "680e0855-1139-477f-f71e-30e3cb5a7485"
      },
      "execution_count": null,
      "outputs": [
        {
          "output_type": "stream",
          "name": "stdout",
          "text": [
            "The minimum number is: 5\n"
          ]
        }
      ]
    },
    {
      "cell_type": "markdown",
      "source": [
        "# Write a code to find the index of the element \"cat\" in the tuple ('dog', 'cat', 'rabbit')."
      ],
      "metadata": {
        "id": "r8zyTrOWPidd"
      }
    },
    {
      "cell_type": "code",
      "source": [
        "my_tuple = ('dog', 'cat', 'rabbit')\n",
        "\n",
        "index_of_cat = my_tuple.index('cat')\n",
        "\n",
        "print(\"The index of 'cat' is:\", index_of_cat)"
      ],
      "metadata": {
        "colab": {
          "base_uri": "https://localhost:8080/"
        },
        "id": "NQYCmP12PhU4",
        "outputId": "dae01840-a21e-4a7c-bddf-955ef1fa95a1"
      },
      "execution_count": null,
      "outputs": [
        {
          "output_type": "stream",
          "name": "stdout",
          "text": [
            "The index of 'cat' is: 1\n"
          ]
        }
      ]
    },
    {
      "cell_type": "markdown",
      "source": [
        "# Write a code to create a tuple containing three different fruits and check if \"kiwi\" is in it."
      ],
      "metadata": {
        "id": "PsItj0yjPuTP"
      }
    },
    {
      "cell_type": "code",
      "source": [
        "fruits = ('apple', 'banana', 'cherry')\n",
        "\n",
        "is_kiwi_in_tuple = 'kiwi' in fruits\n",
        "\n",
        "print(\"Is 'kiwi' in the tuple?\", is_kiwi_in_tuple)"
      ],
      "metadata": {
        "colab": {
          "base_uri": "https://localhost:8080/"
        },
        "id": "aYV5LwxxPp2u",
        "outputId": "af661eda-1bbb-49cb-f2e9-1b5cdde9e8a7"
      },
      "execution_count": null,
      "outputs": [
        {
          "output_type": "stream",
          "name": "stdout",
          "text": [
            "Is 'kiwi' in the tuple? False\n"
          ]
        }
      ]
    },
    {
      "cell_type": "markdown",
      "source": [
        "# Write a code to create a set with the elements 'a','b','c' and print it."
      ],
      "metadata": {
        "id": "pHbIQ6fKP9Jy"
      }
    },
    {
      "cell_type": "code",
      "source": [
        "my_set = {'a', 'b', 'c'}\n",
        "\n",
        "print(\"The set is:\", my_set)"
      ],
      "metadata": {
        "colab": {
          "base_uri": "https://localhost:8080/"
        },
        "id": "-ARQWoHyP2MG",
        "outputId": "1a6ead1e-e5fc-45bf-ee73-503ed461aa12"
      },
      "execution_count": null,
      "outputs": [
        {
          "output_type": "stream",
          "name": "stdout",
          "text": [
            "The set is: {'c', 'a', 'b'}\n"
          ]
        }
      ]
    },
    {
      "cell_type": "markdown",
      "source": [
        "# Write a code to clear all elements from the set {1, 2, 3, 4, 5}."
      ],
      "metadata": {
        "id": "DYZ5Ab-hQFCZ"
      }
    },
    {
      "cell_type": "code",
      "source": [
        "my_set = {1, 2, 3, 4, 5}\n",
        "\n",
        "my_set.clear()\n",
        "\n",
        "print(\"The cleared set is:\", my_set)"
      ],
      "metadata": {
        "colab": {
          "base_uri": "https://localhost:8080/"
        },
        "id": "vR23sPRbQEAV",
        "outputId": "93baf2f1-8295-4ee1-edbd-79c311d40446"
      },
      "execution_count": null,
      "outputs": [
        {
          "output_type": "stream",
          "name": "stdout",
          "text": [
            "The cleared set is: set()\n"
          ]
        }
      ]
    },
    {
      "cell_type": "markdown",
      "source": [
        "# Write a code to remove the element 4 from the set {1, 2, 3, 4}."
      ],
      "metadata": {
        "id": "nod0CS_HQRdn"
      }
    },
    {
      "cell_type": "code",
      "source": [
        "my_set = {1, 2, 3, 4}\n",
        "\n",
        "my_set.remove(4)\n",
        "\n",
        "print(\"The updated set is:\", my_set)"
      ],
      "metadata": {
        "id": "Iwssul51QIlY",
        "colab": {
          "base_uri": "https://localhost:8080/"
        },
        "outputId": "cf7ce66b-755c-430e-c0fa-87668b7c2c17"
      },
      "execution_count": null,
      "outputs": [
        {
          "output_type": "stream",
          "name": "stdout",
          "text": [
            "The updated set is: {1, 2, 3}\n"
          ]
        }
      ]
    },
    {
      "cell_type": "markdown",
      "source": [
        "# Write a code to find the union of two sets {1, 2, 3} and {3, 4, 5}."
      ],
      "metadata": {
        "id": "eMafAm3jMRZE"
      }
    },
    {
      "cell_type": "code",
      "source": [
        "set1 = {1, 2, 3}\n",
        "set2 = {3, 4, 5}\n",
        "\n",
        "union_set = set1 | set2\n",
        "\n",
        "print(\"The union of the sets is:\", union_set)"
      ],
      "metadata": {
        "colab": {
          "base_uri": "https://localhost:8080/"
        },
        "id": "jfQamLBRMy2t",
        "outputId": "fd3c4fbf-90bd-4e6f-b3f7-81343d1fe5eb"
      },
      "execution_count": null,
      "outputs": [
        {
          "output_type": "stream",
          "name": "stdout",
          "text": [
            "The union of the sets is: {1, 2, 3, 4, 5}\n"
          ]
        }
      ]
    },
    {
      "cell_type": "markdown",
      "source": [
        "# Write a code find the intersection of two sets {1, 2, 3} and {2, 3, 4}."
      ],
      "metadata": {
        "id": "q-zKpJ7-NCgI"
      }
    },
    {
      "cell_type": "code",
      "source": [
        "set1 = {1, 2, 3}\n",
        "set2 = {2, 3, 4}\n",
        "\n",
        "\n",
        "intersection_set = set1 & set2\n",
        "\n",
        "print(\"The intersection of the sets is:\", intersection_set)"
      ],
      "metadata": {
        "colab": {
          "base_uri": "https://localhost:8080/"
        },
        "id": "NpJtl55fM_lW",
        "outputId": "4745c024-3a3d-4f62-caf5-2513ffe85be6"
      },
      "execution_count": null,
      "outputs": [
        {
          "output_type": "stream",
          "name": "stdout",
          "text": [
            "The intersection of the sets is: {2, 3}\n"
          ]
        }
      ]
    },
    {
      "cell_type": "markdown",
      "source": [
        "# Write a code to create a dictionary with the keys \"name\", \"age\", and \"city\", and print it."
      ],
      "metadata": {
        "id": "AQ9ksozoNgQJ"
      }
    },
    {
      "cell_type": "code",
      "source": [
        "my_dict = {\n",
        " \"name\": \"Tushar Sharma\",\n",
        " \"age\": 27,\n",
        " \"city\": \"Delhi\"\n",
        "}\n",
        "\n",
        "print(\"The dictionary is:\", my_dict)"
      ],
      "metadata": {
        "colab": {
          "base_uri": "https://localhost:8080/"
        },
        "id": "yN-x8oJRNdlZ",
        "outputId": "1dc0feac-aa4b-4a48-df61-7987c9c91d56"
      },
      "execution_count": null,
      "outputs": [
        {
          "output_type": "stream",
          "name": "stdout",
          "text": [
            "The dictionary is: {'name': 'Tushar Sharma', 'age': 27, 'city': 'Delhi'}\n"
          ]
        }
      ]
    },
    {
      "cell_type": "markdown",
      "source": [
        "# Write a code to add a new key-value pair \"country\":\"USA\" to the dictionary {'name': 'John', 'age': 25}."
      ],
      "metadata": {
        "id": "DVxv7xlFOBpz"
      }
    },
    {
      "cell_type": "code",
      "source": [
        "my_dict = {'name': 'John', 'age': 25}\n",
        "\n",
        "my_dict['country'] = 'USA'\n",
        "\n",
        "print(\"The updated dictionary is:\", my_dict)"
      ],
      "metadata": {
        "colab": {
          "base_uri": "https://localhost:8080/"
        },
        "id": "mMLC2RRqN9pJ",
        "outputId": "807ff101-fa76-4fdf-a059-e261c11179f7"
      },
      "execution_count": null,
      "outputs": [
        {
          "output_type": "stream",
          "name": "stdout",
          "text": [
            "The updated dictionary is: {'name': 'John', 'age': 25, 'country': 'USA'}\n"
          ]
        }
      ]
    },
    {
      "cell_type": "markdown",
      "source": [
        "# Write a code to access the value associated with the key \"name\" in the dictionary {'name': 'Alice', 'age': 30}."
      ],
      "metadata": {
        "id": "KAoCQP_6Pa2j"
      }
    },
    {
      "cell_type": "code",
      "source": [
        "my_dict = {'name': 'Alice', 'age': 30}\n",
        "\n",
        "name_value = my_dict['name']\n",
        "\n",
        "print(\"The value associated with 'name' is:\", name_value)"
      ],
      "metadata": {
        "colab": {
          "base_uri": "https://localhost:8080/"
        },
        "id": "Cr4nTcpVPYBy",
        "outputId": "5b1d5120-a264-4453-cffd-cdd1420a18cf"
      },
      "execution_count": null,
      "outputs": [
        {
          "output_type": "stream",
          "name": "stdout",
          "text": [
            "The value associated with 'name' is: Alice\n"
          ]
        }
      ]
    },
    {
      "cell_type": "markdown",
      "source": [
        "# Write a code to remove the key \"age\" from the dictionary {'name': 'Bob', 'age': 22, 'city': 'New York'}."
      ],
      "metadata": {
        "id": "V0TfGtAiP-MZ"
      }
    },
    {
      "cell_type": "code",
      "source": [
        "my_dict = {'name': 'Bob', 'age': 22, 'city': 'New York'}\n",
        "\n",
        "my_dict.pop('age')\n",
        "\n",
        "print(\"The updated dictionary is:\", my_dict)\n"
      ],
      "metadata": {
        "colab": {
          "base_uri": "https://localhost:8080/"
        },
        "id": "OUkVbDVEP81K",
        "outputId": "bbbf1ef5-ea28-46d3-cbc7-0a75fb3a2d25"
      },
      "execution_count": null,
      "outputs": [
        {
          "output_type": "stream",
          "name": "stdout",
          "text": [
            "The updated dictionary is: {'name': 'Bob', 'city': 'New York'}\n"
          ]
        }
      ]
    },
    {
      "cell_type": "markdown",
      "source": [
        "# Write a code to check if the key \"city\" exists in the dictionary {'name': 'Alice', 'city': 'Paris'}."
      ],
      "metadata": {
        "id": "kpLTe-TSQhm7"
      }
    },
    {
      "cell_type": "code",
      "source": [
        "my_dict = {'name': 'Alice', 'city': 'Paris'}\n",
        "\n",
        "key_exists = 'city' in my_dict\n",
        "\n",
        "print(\"Does the key 'city' exist?\", key_exists)"
      ],
      "metadata": {
        "colab": {
          "base_uri": "https://localhost:8080/"
        },
        "id": "Hagj7XQuQf4w",
        "outputId": "4395401d-adec-42f6-c324-fc730bf94116"
      },
      "execution_count": null,
      "outputs": [
        {
          "output_type": "stream",
          "name": "stdout",
          "text": [
            "Does the key 'city' exist? True\n"
          ]
        }
      ]
    },
    {
      "cell_type": "markdown",
      "source": [
        "# Write a code to create a list, a tuple, and a dictionary, and print them all."
      ],
      "metadata": {
        "id": "Tcx1trULQ_rh"
      }
    },
    {
      "cell_type": "code",
      "source": [
        "my_list = [1, 2, 3, 4, 5]\n",
        "\n",
        "my_tuple = ('apple', 'banana', 'cherry')\n",
        "\n",
        "my_dict = {'name': 'Alice', 'age': 30, 'city': 'Paris'}\n",
        "\n",
        "print(\"List:\", my_list)\n",
        "print(\"Tuple:\", my_tuple)\n",
        "print(\"Dictionary:\", my_dict)"
      ],
      "metadata": {
        "colab": {
          "base_uri": "https://localhost:8080/"
        },
        "id": "fUi38vOKQ9lJ",
        "outputId": "e26f3342-4654-45c7-8c51-236c80cf6259"
      },
      "execution_count": null,
      "outputs": [
        {
          "output_type": "stream",
          "name": "stdout",
          "text": [
            "List: [1, 2, 3, 4, 5]\n",
            "Tuple: ('apple', 'banana', 'cherry')\n",
            "Dictionary: {'name': 'Alice', 'age': 30, 'city': 'Paris'}\n"
          ]
        }
      ]
    },
    {
      "cell_type": "markdown",
      "source": [
        "# Wrtie a code to create a list of 5 random numbers between 1 and 100, sort it in ascending order, and print the result.(replaced)"
      ],
      "metadata": {
        "id": "AWXuWiAkRkx3"
      }
    },
    {
      "cell_type": "code",
      "source": [
        "import random\n",
        "\n",
        "random_numbers = [random.randint(1, 100) for _ in range(5)]\n",
        "\n",
        "random_numbers.sort()\n",
        "\n",
        "print(\"Sorted list of random numbers:\", random_numbers)"
      ],
      "metadata": {
        "colab": {
          "base_uri": "https://localhost:8080/"
        },
        "id": "Xe3GMWH2RhxH",
        "outputId": "1a09737a-8a59-43ce-874c-2f13efbd53dc"
      },
      "execution_count": null,
      "outputs": [
        {
          "output_type": "stream",
          "name": "stdout",
          "text": [
            "Sorted list of random numbers: [48, 53, 55, 75, 84]\n"
          ]
        }
      ]
    },
    {
      "cell_type": "markdown",
      "source": [
        "# Write a code to create a list with strings and print the element at the third index."
      ],
      "metadata": {
        "id": "nXZ_JJpSSIBM"
      }
    },
    {
      "cell_type": "code",
      "source": [
        "string_list = [\"apple\", \"banana\", \"cherry\", \"date\", \"orange\"]\n",
        "\n",
        "print(\"Element at index 3:\", string_list[3])"
      ],
      "metadata": {
        "colab": {
          "base_uri": "https://localhost:8080/"
        },
        "id": "xd3ObhrrSG4j",
        "outputId": "b8d89f07-3ed6-408f-d105-46859f5754d7"
      },
      "execution_count": null,
      "outputs": [
        {
          "output_type": "stream",
          "name": "stdout",
          "text": [
            "Element at index 3: date\n"
          ]
        }
      ]
    },
    {
      "cell_type": "markdown",
      "source": [
        "# Write a code to combine two dictionaries into one and print the result."
      ],
      "metadata": {
        "id": "hx9XGzfsStXt"
      }
    },
    {
      "cell_type": "code",
      "source": [
        "dict1 = {'a': 1, 'b': 2}\n",
        "dict2 = {'c': 3, 'd': 4}\n",
        "\n",
        "combined_dict = {**dict1, **dict2}\n",
        "\n",
        "print(\"Combined dictionary:\", combined_dict)\n"
      ],
      "metadata": {
        "colab": {
          "base_uri": "https://localhost:8080/"
        },
        "id": "uGBHY-YYSbJM",
        "outputId": "52a94cf5-f1ad-4626-c99d-ad20d5ac27f8"
      },
      "execution_count": null,
      "outputs": [
        {
          "output_type": "stream",
          "name": "stdout",
          "text": [
            "Combined dictionary: {'a': 1, 'b': 2, 'c': 3, 'd': 4}\n"
          ]
        }
      ]
    },
    {
      "cell_type": "markdown",
      "source": [
        "# Write a code to convert a list of string into a set."
      ],
      "metadata": {
        "id": "ZkaQYbqSTCUA"
      }
    },
    {
      "cell_type": "code",
      "source": [
        "string_list = [\"apple\", \"banana\", \"cherry\", \"apple\"]\n",
        "\n",
        "string_set = set(string_list)\n",
        "\n",
        "print(\"Set of strings:\", string_set)"
      ],
      "metadata": {
        "colab": {
          "base_uri": "https://localhost:8080/"
        },
        "id": "pXGkfsKNS-h-",
        "outputId": "392dbeb0-577e-4536-8b8d-39b2b59fb0a9"
      },
      "execution_count": null,
      "outputs": [
        {
          "output_type": "stream",
          "name": "stdout",
          "text": [
            "Set of strings: {'cherry', 'banana', 'apple'}\n"
          ]
        }
      ]
    }
  ]
}